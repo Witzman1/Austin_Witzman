{
  "nbformat": 4,
  "nbformat_minor": 0,
  "metadata": {
    "colab": {
      "provenance": []
    },
    "kernelspec": {
      "name": "python3",
      "display_name": "Python 3"
    },
    "language_info": {
      "name": "python"
    }
  },
  "cells": [
    {
      "cell_type": "code",
      "source": [],
      "metadata": {
        "id": "Uec8rcU9Vo3S"
      },
      "execution_count": null,
      "outputs": []
    },
    {
      "cell_type": "code",
      "execution_count": 42,
      "metadata": {
        "colab": {
          "base_uri": "https://localhost:8080/"
        },
        "id": "DifpXJVfCA7b",
        "outputId": "f9c07973-9933-4e22-8925-75e99d082f6c"
      },
      "outputs": [
        {
          "output_type": "stream",
          "name": "stdout",
          "text": [
            "Please enter input: python\n",
            "h t y\n"
          ]
        }
      ],
      "source": [
        "#Input the string “Python” as a list of characters from console, delete at least 2\n",
        "# characters, reversetheresultant string, and print it.\n",
        "p = input(\"Please enter input: \")\n",
        "list1 = []\n",
        "list1.extend(p)\n",
        "list1.remove('p')\n",
        "list1.remove('n')\n",
        "list1.remove('o')\n",
        "list1.reverse()\n",
        "\n",
        "print(*list1)\n"
      ]
    },
    {
      "cell_type": "code",
      "source": [
        "#Take two numbers from user and perform at least 4 arithmetic operations on them.\n",
        "num1 = int (input (\"Enter 2 numbers seperated by one entering:\"))\n",
        "numb2 = int(input())\n",
        "\n",
        "\n",
        "print(num1+numb2)\n",
        "print(num1 / numb2)\n",
        "print(num1 * numb2)\n",
        "print(num1 - numb2)\n"
      ],
      "metadata": {
        "colab": {
          "base_uri": "https://localhost:8080/"
        },
        "id": "gMjXctMuKL0Y",
        "outputId": "788a19b5-2393-45d7-a38a-17a5427aa0d4"
      },
      "execution_count": 65,
      "outputs": [
        {
          "output_type": "stream",
          "name": "stdout",
          "text": [
            "Enter 2 numbers seperated by one entering:1\n",
            "2\n",
            "3\n",
            "0.5\n",
            "2\n",
            "-1\n"
          ]
        }
      ]
    },
    {
      "cell_type": "code",
      "source": [
        "#Write a program that accepts a sentence and replace each occurrence of ‘python’ with\n",
        "#‘pythons’.\n",
        "sent=input(\"please enter a sentace with the word python: \")\n",
        "list2=sent.split()\n",
        "i = 0\n",
        "while i < len(list2):\n",
        "\n",
        "    # replace python with pythons\n",
        "    if list2[i] == 'python':\n",
        "        list2[i] = 'pythons'\n",
        "\n",
        "    i += 1\n",
        "\n",
        "# print list\n",
        "print(*list2)"
      ],
      "metadata": {
        "colab": {
          "base_uri": "https://localhost:8080/"
        },
        "id": "ZNFNwRxaUszg",
        "outputId": "1d04abcb-7697-4795-a071-a8062a916325"
      },
      "execution_count": 58,
      "outputs": [
        {
          "output_type": "stream",
          "name": "stdout",
          "text": [
            "please enter a sentace with the word python: the python cow jumped over the python moon\n",
            "the pythons cow jumped over the pythons moon\n"
          ]
        }
      ]
    },
    {
      "cell_type": "code",
      "source": [
        "#grades\n",
        "score = eval(input(\"enter student score: \"))\n",
        "\n",
        "if score >= 90:\n",
        "    grade = 'A'\n",
        "elif score >= 80:\n",
        "    grade = 'B'\n",
        "elif score >= 70:\n",
        "    grade = 'C'\n",
        "elif score >= 60:\n",
        "    grade = 'D'\n",
        "else:\n",
        "    grade = 'F = Falilure'\n",
        "#display rsults\n",
        "print(f\"Student score is {score} and the letter grade is {grade}\")\n"
      ],
      "metadata": {
        "colab": {
          "base_uri": "https://localhost:8080/"
        },
        "id": "y_v88yWhKylz",
        "outputId": "47bd9bbf-dadb-46d3-8817-4a6ce07cadc4"
      },
      "execution_count": 21,
      "outputs": [
        {
          "output_type": "stream",
          "name": "stdout",
          "text": [
            "enter student score: 69\n",
            "Student score is 69 and the letter grade is D\n"
          ]
        }
      ]
    }
  ]
}