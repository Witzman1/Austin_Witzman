{
  "nbformat": 4,
  "nbformat_minor": 0,
  "metadata": {
    "colab": {
      "provenance": []
    },
    "kernelspec": {
      "name": "python3",
      "display_name": "Python 3"
    },
    "language_info": {
      "name": "python"
    }
  },
  "cells": [
    {
      "cell_type": "code",
      "execution_count": 47,
      "metadata": {
        "id": "4dFLh0ClgNY9",
        "colab": {
          "base_uri": "https://localhost:8080/"
        },
        "outputId": "0918ad43-fc82-4846-bdf7-caad38b0c50f"
      },
      "outputs": [
        {
          "output_type": "stream",
          "name": "stdout",
          "text": [
            "[[12  4  8  4 16]\n",
            " [19  8 10 13 18]\n",
            " [19 15 20  9 17]]\n",
            "[[12  4  8  4  0]\n",
            " [ 0  8 10 13 18]\n",
            " [19 15  0  9 17]]\n"
          ]
        }
      ],
      "source": [
        "#Q1\n",
        "\n",
        "import numpy as np\n",
        "#part a\n",
        "a = np.random.randint(1,21, size=15)\n",
        "b = a.reshape(3, 5)\n",
        "print(b)\n",
        "#part b\n",
        "b.shape\n",
        "#part c\n",
        "for i in range (3):\n",
        "  maxIndex=np.argmax(b[i])\n",
        "  b[i,maxIndex]=0\n",
        "print(b)\n"
      ]
    },
    {
      "cell_type": "code",
      "source": [
        "#Q2\n",
        "x = np.array([[2, 4, 6], [7, 9, 11]], np.int32)\n",
        "print(type(x))\n",
        "print(x.shape)\n",
        "print(x.dtype)"
      ],
      "metadata": {
        "colab": {
          "base_uri": "https://localhost:8080/"
        },
        "id": "-lDokJ_MHi6D",
        "outputId": "e45a283d-a490-4614-d61f-2e229b7ee490"
      },
      "execution_count": 9,
      "outputs": [
        {
          "output_type": "stream",
          "name": "stdout",
          "text": [
            "<class 'numpy.ndarray'>\n",
            "(2, 3)\n",
            "int32\n"
          ]
        }
      ]
    },
    {
      "cell_type": "code",
      "source": [
        "#Q3\n",
        "array=[[0, 1, 2],\n",
        "[3, 4, 5]]\n",
        "trace = np.trace(array)\n",
        "\n",
        "print(\"\\n sum of given 3X3 arrays:\")\n",
        "print(trace)"
      ],
      "metadata": {
        "colab": {
          "base_uri": "https://localhost:8080/"
        },
        "id": "KTMoL9i-HkNp",
        "outputId": "fb26493e-9275-4180-a8bd-126a0f568a4c"
      },
      "execution_count": 31,
      "outputs": [
        {
          "output_type": "stream",
          "name": "stdout",
          "text": [
            "\n",
            " sum of given 3X3 arrays:\n",
            "4\n"
          ]
        }
      ]
    },
    {
      "cell_type": "code",
      "source": [
        "#Q4\n",
        "#part a\n",
        "array=np.arange(10,71)\n",
        "print(\"Array of all the  integers from 10 to 70\")\n",
        "print(array)\n",
        " #part b\n",
        "x = np.array([[6,8],[12,14]])\n",
        "y = np.array([[5,6],[7,8]])\n",
        "print(np.sum(x))\n",
        "print(np.subtract(x, y))\n",
        "print(np.sqrt(x))\n",
        "\n",
        "#part c\n",
        "array3 = [[5.54, 3.38, 7.99],\n",
        " [3.54, 4.38, 6.99],\n",
        " [1.54, 2.39, 9.29]]\n",
        "print(\"\\n Sort the said array by row in ascending order:\")\n",
        "print(np.sort(array3))\n",
        "print(\"\\n Sort the said array by column in ascending order:\")\n",
        "print(np.sort(array3, axis=0))"
      ],
      "metadata": {
        "colab": {
          "base_uri": "https://localhost:8080/"
        },
        "id": "DaX2ZK74HoFz",
        "outputId": "40f741dd-5797-4ab2-992e-bf50feebf9ca"
      },
      "execution_count": 38,
      "outputs": [
        {
          "output_type": "stream",
          "name": "stdout",
          "text": [
            "Array of all the  integers from 10 to 70\n",
            "[10 11 12 13 14 15 16 17 18 19 20 21 22 23 24 25 26 27 28 29 30 31 32 33\n",
            " 34 35 36 37 38 39 40 41 42 43 44 45 46 47 48 49 50 51 52 53 54 55 56 57\n",
            " 58 59 60 61 62 63 64 65 66 67 68 69 70]\n",
            "40\n",
            "[[1 2]\n",
            " [5 6]]\n",
            "[[2.44948974 2.82842712]\n",
            " [3.46410162 3.74165739]]\n",
            "\n",
            " Sort the said array by row in ascending order:\n",
            "[[3.38 5.54 7.99]\n",
            " [3.54 4.38 6.99]\n",
            " [1.54 2.39 9.29]]\n",
            "\n",
            " Sort the said array by column in ascending order:\n",
            "[[1.54 2.39 6.99]\n",
            " [3.54 3.38 7.99]\n",
            " [5.54 4.38 9.29]]\n"
          ]
        }
      ]
    },
    {
      "cell_type": "code",
      "source": [
        "#Q5\n",
        "import numpy as np\n",
        "Array = [[4, 2, np.nan, 1],\n",
        "[11, 12, 14, 9],\n",
        " [5, np.nan, 1, np.nan]]\n",
        "print(np.isnan(Array))"
      ],
      "metadata": {
        "colab": {
          "base_uri": "https://localhost:8080/"
        },
        "id": "r2pQ8FgaHpDS",
        "outputId": "59d45ec7-4be5-4e5e-ffd1-8582c555cfb1"
      },
      "execution_count": 40,
      "outputs": [
        {
          "output_type": "stream",
          "name": "stdout",
          "text": [
            "[[False False  True False]\n",
            " [False False False False]\n",
            " [False  True False  True]]\n"
          ]
        }
      ]
    }
  ]
}