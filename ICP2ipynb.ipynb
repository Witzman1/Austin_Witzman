{
  "nbformat": 4,
  "nbformat_minor": 0,
  "metadata": {
    "colab": {
      "provenance": []
    },
    "kernelspec": {
      "name": "python3",
      "display_name": "Python 3"
    },
    "language_info": {
      "name": "python"
    }
  },
  "cells": [
    {
      "cell_type": "code",
      "execution_count": 22,
      "metadata": {
        "id": "7SRYiij_E5w_",
        "colab": {
          "base_uri": "https://localhost:8080/"
        },
        "outputId": "ce3f2421-da00-4a6d-b008-5ad01644493b"
      },
      "outputs": [
        {
          "output_type": "stream",
          "name": "stdout",
          "text": [
            "[19, 19, 20, 22, 24, 24, 24, 25, 25, 26]\n",
            "19\n",
            "26\n",
            "12.0\n",
            "23.09090909090909\n",
            "7\n"
          ]
        }
      ],
      "source": [
        "#question 1\n",
        "\n",
        "from statistics import *\n",
        "ages = [19, 22, 19, 24, 20, 25, 26, 24, 25, 24]\n",
        "ages.sort()\n",
        "print(ages)\n",
        "print(min(ages))\n",
        "print(max(ages))\n",
        "ages.insert(19,26)\n",
        "print(mode(ages)/2)\n",
        "print(mean(ages))\n",
        "print(max(ages)- min(ages))"
      ]
    },
    {
      "cell_type": "code",
      "source": [
        "#question 2\n",
        "dog= {}\n",
        "dog['name','color','breed','legs','age']= input(\"Please give dog name,color,breed, num of legs, and age: \")\n",
        "student = {\n",
        "    'first_name': 'John',\n",
        "    'last_name': 'Doe',\n",
        "    'gender': 'Male',\n",
        "    'age': 18,\n",
        "    'marital status': 'Single',\n",
        "    'skills': ['skateboarding', 'python'],\n",
        "    'country': 'USA',\n",
        "    'city': ' Warrensburg',\n",
        "}\n",
        "print(dog)\n",
        "length_of_student = len(student)\n",
        "print(f'Length of student dictionary: {length_of_student}')\n",
        "skills = student['skills']\n",
        "print(f'Skills: {skills}')\n",
        "print(f'Data type of skills: {type(skills)}')\n",
        "student['skills'].extend(['Java', 'Physics'])\n",
        "print(f'Updated skills: {student[\"skills\"]}')\n",
        "keys_list = list(student.keys())\n",
        "print(f'Keys of student dictionary: {keys_list}')\n",
        "values_list = list(student.values())\n",
        "print(f'Values of student dictionary: {values_list}')\n"
      ],
      "metadata": {
        "colab": {
          "base_uri": "https://localhost:8080/"
        },
        "id": "abpzPNiJGnOh",
        "outputId": "f0e543db-9ce5-4da6-e0a7-221803e4284f"
      },
      "execution_count": 64,
      "outputs": [
        {
          "output_type": "stream",
          "name": "stdout",
          "text": [
            "Please give dog name,color,breed, num of legs, and age: ruff, brown, golden, 4, 3\n",
            "{('name', 'color', 'breed', 'legs', 'age'): 'ruff, brown, golden, 4, 3'}\n",
            "Length of student dictionary: 8\n",
            "Skills: ['skateboarding', 'python']\n",
            "Data type of skills: <class 'list'>\n",
            "Updated skills: ['skateboarding', 'python', 'Java', 'Physics']\n",
            "Keys of student dictionary: ['first_name', 'last_name', 'gender', 'age', 'marital status', 'skills', 'country', 'city']\n",
            "Values of student dictionary: ['John', 'Doe', 'Male', 18, 'Single', ['skateboarding', 'python', 'Java', 'Physics'], 'USA', ' Warrensburg']\n"
          ]
        }
      ]
    },
    {
      "cell_type": "code",
      "source": [
        "#Q3\n",
        "it_companies = {'Facebook', 'Google', 'Microsoft', 'Apple', 'IBM', 'Oracle', 'Amazon'}\n",
        "A = {19, 22, 24, 20, 25, 26}\n",
        "B = {19, 22, 20, 25, 26, 24, 28, 27}\n",
        "age = [22, 19, 24, 25, 26, 24, 25, 24]\n",
        "print(len(it_companies))\n",
        "it_companies.add('twitter')\n",
        "print(it_companies)\n",
        "it_companies.update([\"Tesla\", \"chatGPT\", \"spaceX\"])\n",
        "print(it_companies)\n",
        "it_companies.remove('chatGPT')\n",
        "#the difference between remove and discard is that discard will not notify if the item does not exist\n",
        "C = A.union(B)\n",
        "print(C)\n",
        "print(A.intersection(B))\n",
        "print(A.issubset(B))\n",
        "print(A.isdisjoint(B))\n",
        "print(A|B)\n",
        "print(B|A)\n",
        "print(A.symmetric_difference(B))\n",
        "A.clear\n",
        "B.clear\n",
        "print(age.set())\n",
        "#theyre the same as the oth have the same values\n"
      ],
      "metadata": {
        "colab": {
          "base_uri": "https://localhost:8080/"
        },
        "id": "l6B2c3_AILkZ",
        "outputId": "bd430da5-88ce-4a16-e16c-974196d17298"
      },
      "execution_count": 62,
      "outputs": [
        {
          "output_type": "stream",
          "name": "stdout",
          "text": [
            "7\n",
            "{'IBM', 'Apple', 'Oracle', 'twitter', 'Amazon', 'Microsoft', 'Facebook', 'Google'}\n",
            "{'twitter', 'Tesla', 'Amazon', 'spaceX', 'Microsoft', 'Facebook', 'Google', 'IBM', 'chatGPT', 'Oracle', 'Apple'}\n",
            "{19, 20, 22, 24, 25, 26, 27, 28}\n",
            "{19, 20, 22, 24, 25, 26}\n",
            "True\n",
            "False\n",
            "{19, 20, 22, 24, 25, 26, 27, 28}\n",
            "{19, 20, 22, 24, 25, 26, 27, 28}\n"
          ]
        }
      ]
    },
    {
      "cell_type": "code",
      "source": [
        "#Q4\n",
        "class Employee:\n",
        "    employee_count = 0\n",
        "    total_salary = 0\n",
        "    def __init__(self, name, family, salary, department):\n",
        "        self.name = name\n",
        "        self.family = family\n",
        "        self.salary = salary\n",
        "        self.department = department\n",
        "\n",
        "        Employee.employee_count += 1\n",
        "        Employee.total_salary += salary\n",
        "\n",
        "    @classmethod\n",
        "    def average_salary(cls):\n",
        "        \"\"\"Return the average salary of all employees.\"\"\"\n",
        "        if cls.employee_count == 0:\n",
        "            return 0\n",
        "        return cls.total_salary / cls.employee_count\n",
        "\n",
        "\n",
        "class FulltimeEmployee(Employee):\n",
        "    pass\n",
        "\n",
        "\n",
        "employee1 = Employee('John deer', 'deer Family', 50000, 'Finance')\n",
        "employee2 = FulltimeEmployee('Jaden Smith', 'Smith Family', 60000, 'pickle factory')\n",
        "\n",
        "print(f\"Total number of employees: {Employee.employee_count}\")\n",
        "print(f\"Average salary: ${Employee.average_salary():.2f}\")\n",
        "\n",
        "employee3 = FulltimeEmployee('Alice Johnson', 'Johnson Family', 70000, 'HR')\n",
        "print(f\"Total number of employees after adding a FulltimeEmployee: {Employee.employee_count}\")\n",
        "print(f\"Average salary after adding a FulltimeEmployee: ${Employee.average_salary():.2f}\")\n"
      ],
      "metadata": {
        "colab": {
          "base_uri": "https://localhost:8080/"
        },
        "id": "8cpMgIQIIcdF",
        "outputId": "52c374d4-e037-4543-da9c-841cbfecaa3b"
      },
      "execution_count": 65,
      "outputs": [
        {
          "output_type": "stream",
          "name": "stdout",
          "text": [
            "Total number of employees: 2\n",
            "Average salary: $55000.00\n",
            "Total number of employees after adding a FulltimeEmployee: 3\n",
            "Average salary after adding a FulltimeEmployee: $60000.00\n"
          ]
        }
      ]
    }
  ]
}