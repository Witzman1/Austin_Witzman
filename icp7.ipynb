{
  "cells": [
    {
      "cell_type": "code",
      "execution_count": 48,
      "metadata": {
        "colab": {
          "base_uri": "https://localhost:8080/"
        },
        "id": "Z1MgxIah5b56",
        "outputId": "35ae45b5-a38e-4cb7-e23b-be4280f16aec"
      },
      "outputs": [
        {
          "metadata": {
            "tags": null
          },
          "name": "stdout",
          "output_type": "stream",
          "text": [
            "Model: \"sequential_15\"\n",
            "_________________________________________________________________\n",
            " Layer (type)                Output Shape              Param #   \n",
            "=================================================================\n",
            " conv2d_8 (Conv2D)           (None, 32, 32, 32)        896       \n",
            "                                                                 \n",
            " dropout_8 (Dropout)         (None, 32, 32, 32)        0         \n",
            "                                                                 \n",
            " conv2d_9 (Conv2D)           (None, 32, 32, 32)        9248      \n",
            "                                                                 \n",
            " max_pooling2d_4 (MaxPoolin  (None, 16, 16, 32)        0         \n",
            " g2D)                                                            \n",
            "                                                                 \n",
            " flatten_4 (Flatten)         (None, 8192)              0         \n",
            "                                                                 \n",
            " dense_8 (Dense)             (None, 512)               4194816   \n",
            "                                                                 \n",
            " dropout_9 (Dropout)         (None, 512)               0         \n",
            "                                                                 \n",
            " dense_9 (Dense)             (None, 10)                5130      \n",
            "                                                                 \n",
            "=================================================================\n",
            "Total params: 4210090 (16.06 MB)\n",
            "Trainable params: 4210090 (16.06 MB)\n",
            "Non-trainable params: 0 (0.00 Byte)\n",
            "_________________________________________________________________\n",
            "None\n",
            "Epoch 1/25\n"
          ]
        },
        {
          "metadata": {
            "tags": null
          },
          "name": "stderr",
          "output_type": "stream",
          "text": [
            "WARNING:tensorflow:AutoGraph could not transform <function Model.make_train_function.<locals>.train_function at 0x798ccee3e950> and will run it as-is.\n",
            "Cause: Unable to locate the source code of <function Model.make_train_function.<locals>.train_function at 0x798ccee3e950>. Note that functions defined in certain environments, like the interactive Python shell, do not expose their source code. If that is the case, you should define them in a .py source file. If you are certain the code is graph-compatible, wrap the call using @tf.autograph.experimental.do_not_convert. Original error: could not get source code\n",
            "To silence this warning, decorate the function with @tf.autograph.experimental.do_not_convert\n"
          ]
        },
        {
          "metadata": {
            "tags": null
          },
          "name": "stdout",
          "output_type": "stream",
          "text": [
            "WARNING: AutoGraph could not transform <function Model.make_train_function.<locals>.train_function at 0x798ccee3e950> and will run it as-is.\n",
            "Cause: Unable to locate the source code of <function Model.make_train_function.<locals>.train_function at 0x798ccee3e950>. Note that functions defined in certain environments, like the interactive Python shell, do not expose their source code. If that is the case, you should define them in a .py source file. If you are certain the code is graph-compatible, wrap the call using @tf.autograph.experimental.do_not_convert. Original error: could not get source code\n",
            "To silence this warning, decorate the function with @tf.autograph.experimental.do_not_convert\n",
            "1563/1563 [==============================] - ETA: 0s - loss: 1.7056 - accuracy: 0.3830"
          ]
        },
        {
          "metadata": {
            "tags": null
          },
          "name": "stderr",
          "output_type": "stream",
          "text": [
            "WARNING:tensorflow:AutoGraph could not transform <function Model.make_test_function.<locals>.test_function at 0x798cc3773640> and will run it as-is.\n",
            "Cause: Unable to locate the source code of <function Model.make_test_function.<locals>.test_function at 0x798cc3773640>. Note that functions defined in certain environments, like the interactive Python shell, do not expose their source code. If that is the case, you should define them in a .py source file. If you are certain the code is graph-compatible, wrap the call using @tf.autograph.experimental.do_not_convert. Original error: could not get source code\n",
            "To silence this warning, decorate the function with @tf.autograph.experimental.do_not_convert\n"
          ]
        },
        {
          "metadata": {
            "tags": null
          },
          "name": "stdout",
          "output_type": "stream",
          "text": [
            "WARNING: AutoGraph could not transform <function Model.make_test_function.<locals>.test_function at 0x798cc3773640> and will run it as-is.\n",
            "Cause: Unable to locate the source code of <function Model.make_test_function.<locals>.test_function at 0x798cc3773640>. Note that functions defined in certain environments, like the interactive Python shell, do not expose their source code. If that is the case, you should define them in a .py source file. If you are certain the code is graph-compatible, wrap the call using @tf.autograph.experimental.do_not_convert. Original error: could not get source code\n",
            "To silence this warning, decorate the function with @tf.autograph.experimental.do_not_convert\n",
            "1563/1563 [==============================] - 261s 166ms/step - loss: 1.7056 - accuracy: 0.3830 - val_loss: 1.4236 - val_accuracy: 0.4861\n",
            "Epoch 2/25\n",
            "1563/1563 [==============================] - 261s 167ms/step - loss: 1.3591 - accuracy: 0.5118 - val_loss: 1.2387 - val_accuracy: 0.5617\n",
            "Epoch 3/25\n",
            "1563/1563 [==============================] - 255s 163ms/step - loss: 1.1950 - accuracy: 0.5757 - val_loss: 1.0935 - val_accuracy: 0.6149\n",
            "Epoch 4/25\n",
            "1563/1563 [==============================] - 258s 165ms/step - loss: 1.0679 - accuracy: 0.6222 - val_loss: 1.0471 - val_accuracy: 0.6318\n",
            "Epoch 5/25\n",
            "1563/1563 [==============================] - 253s 162ms/step - loss: 0.9563 - accuracy: 0.6634 - val_loss: 1.0240 - val_accuracy: 0.6359\n",
            "Epoch 6/25\n",
            "1563/1563 [==============================] - 247s 158ms/step - loss: 0.8607 - accuracy: 0.6949 - val_loss: 0.9614 - val_accuracy: 0.6583\n",
            "Epoch 7/25\n",
            "1563/1563 [==============================] - 242s 155ms/step - loss: 0.7686 - accuracy: 0.7298 - val_loss: 0.9587 - val_accuracy: 0.6663\n",
            "Epoch 8/25\n",
            "1563/1563 [==============================] - 244s 156ms/step - loss: 0.6915 - accuracy: 0.7569 - val_loss: 0.9822 - val_accuracy: 0.6712\n",
            "Epoch 9/25\n",
            "1563/1563 [==============================] - 249s 159ms/step - loss: 0.6240 - accuracy: 0.7804 - val_loss: 1.0470 - val_accuracy: 0.6701\n",
            "Epoch 10/25\n",
            "1563/1563 [==============================] - 247s 158ms/step - loss: 0.5673 - accuracy: 0.8019 - val_loss: 1.0979 - val_accuracy: 0.6640\n",
            "Epoch 11/25\n",
            "1563/1563 [==============================] - 249s 159ms/step - loss: 0.5233 - accuracy: 0.8180 - val_loss: 1.0946 - val_accuracy: 0.6762\n",
            "Epoch 12/25\n",
            "1563/1563 [==============================] - 238s 152ms/step - loss: 0.4854 - accuracy: 0.8311 - val_loss: 1.0731 - val_accuracy: 0.6772\n",
            "Epoch 13/25\n",
            "1563/1563 [==============================] - 246s 158ms/step - loss: 0.4411 - accuracy: 0.8469 - val_loss: 1.1447 - val_accuracy: 0.6757\n",
            "Epoch 14/25\n",
            "1563/1563 [==============================] - 247s 158ms/step - loss: 0.4032 - accuracy: 0.8597 - val_loss: 1.2294 - val_accuracy: 0.6550\n",
            "Epoch 15/25\n",
            "1563/1563 [==============================] - 252s 161ms/step - loss: 0.3855 - accuracy: 0.8678 - val_loss: 1.2574 - val_accuracy: 0.6721\n",
            "Epoch 16/25\n",
            "1563/1563 [==============================] - 262s 168ms/step - loss: 0.3693 - accuracy: 0.8730 - val_loss: 1.2435 - val_accuracy: 0.6741\n",
            "Epoch 17/25\n",
            "1563/1563 [==============================] - 257s 165ms/step - loss: 0.3705 - accuracy: 0.8751 - val_loss: 1.3072 - val_accuracy: 0.6751\n",
            "Epoch 18/25\n",
            "1563/1563 [==============================] - 257s 164ms/step - loss: 0.3503 - accuracy: 0.8806 - val_loss: 1.2296 - val_accuracy: 0.6738\n",
            "Epoch 19/25\n",
            "1563/1563 [==============================] - 268s 172ms/step - loss: 0.3233 - accuracy: 0.8893 - val_loss: 1.2411 - val_accuracy: 0.6715\n",
            "Epoch 20/25\n",
            "1563/1563 [==============================] - 258s 165ms/step - loss: 0.3221 - accuracy: 0.8899 - val_loss: 1.2961 - val_accuracy: 0.6669\n",
            "Epoch 21/25\n",
            "1563/1563 [==============================] - 250s 160ms/step - loss: 0.3088 - accuracy: 0.8965 - val_loss: 1.4725 - val_accuracy: 0.6619\n",
            "Epoch 22/25\n",
            "1563/1563 [==============================] - 259s 166ms/step - loss: 0.3146 - accuracy: 0.8939 - val_loss: 1.3921 - val_accuracy: 0.6719\n",
            "Epoch 23/25\n",
            "1563/1563 [==============================] - 256s 164ms/step - loss: 0.3028 - accuracy: 0.8983 - val_loss: 1.3828 - val_accuracy: 0.6702\n",
            "Epoch 24/25\n",
            "1563/1563 [==============================] - 234s 149ms/step - loss: 0.2885 - accuracy: 0.9028 - val_loss: 1.3596 - val_accuracy: 0.6770\n",
            "Epoch 25/25\n",
            "1563/1563 [==============================] - 242s 155ms/step - loss: 0.2869 - accuracy: 0.9036 - val_loss: 1.2929 - val_accuracy: 0.6769\n",
            "Accuracy: 67.69%\n"
          ]
        }
      ],
      "source": [
        "import numpy\n",
        "from keras.datasets import cifar10\n",
        "from keras.models import Sequential\n",
        "from keras.layers import Dense\n",
        "from keras.layers import Dropout\n",
        "from keras.layers import Flatten\n",
        "#K.set_image_dim_ordering('th')\n",
        "from keras.datasets import cifar10\n",
        "from keras.models import Sequential\n",
        "from keras.layers import Dense, Dropout, Flatten\n",
        "from keras.layers import Conv2D, MaxPooling2D\n",
        "from keras.optimizers import SGD\n",
        "from keras.constraints import max_norm\n",
        "from keras.utils import to_categorical\n",
        "import tensorflow as tf\n",
        "\n",
        "# Fix random seed for reproducibility\n",
        "seed = 7\n",
        "numpy.random.seed(seed)\n",
        "\n",
        "# Load data\n",
        "(X_train, y_train), (X_test, y_test) = cifar10.load_data()\n",
        "\n",
        "# Normalize inputs from 0-255 to 0.0-1.0\n",
        "X_train = X_train.astype('float32')\n",
        "X_test = X_test.astype('float32')\n",
        "X_train /= 255.0\n",
        "X_test /= 255.0\n",
        "\n",
        "# One-hot encode outputs using to_categorical\n",
        "y_train = to_categorical(y_train, num_classes=10)\n",
        "y_test = to_categorical(y_test, num_classes=10)\n",
        "\n",
        "# Create the model\n",
        "model = Sequential()\n",
        "model.add(Conv2D(32, (3, 3), input_shape=(32, 32, 3), padding='same', activation='relu', kernel_constraint=max_norm(3)))\n",
        "model.add(Dropout(0.2))\n",
        "model.add(Conv2D(32, (3, 3), activation='relu', padding='same', kernel_constraint=max_norm(3)))\n",
        "model.add(MaxPooling2D(pool_size=(2, 2)))\n",
        "model.add(Flatten())\n",
        "model.add(Dense(512, activation='relu', kernel_constraint=max_norm(3)))\n",
        "model.add(Dropout(0.5))\n",
        "model.add(Dense(10, activation='softmax'))\n",
        "\n",
        "# Create a learning rate schedule\n",
        "initial_learning_rate = 0.01\n",
        "lr_schedule = tf.keras.optimizers.schedules.ExponentialDecay(\n",
        "    initial_learning_rate, decay_steps=100000, decay_rate=0.96, staircase=True\n",
        ")\n",
        "sgd = SGD(learning_rate=lr_schedule, momentum=0.9, nesterov=False)\n",
        "\n",
        "# Compile model\n",
        "model.compile(loss='categorical_crossentropy', optimizer=sgd, metrics=['accuracy'])\n",
        "print(model.summary())\n",
        "\n",
        "# Fit the model\n",
        "model.fit(X_train, y_train, validation_data=(X_test, y_test), epochs=epochs, batch_size=32)\n",
        "\n",
        "# Final evaluation of the model\n",
        "scores = model.evaluate(X_test, y_test, verbose=0)\n",
        "print(\"Accuracy: %.2f%%\" % (scores[1] * 100))"
      ]
    }
  ],
  "metadata": {
    "colab": {
      "provenance": []
    },
    "kernelspec": {
      "display_name": "Python 3",
      "name": "python3"
    },
    "language_info": {
      "name": "python"
    }
  },
  "nbformat": 4,
  "nbformat_minor": 0
}